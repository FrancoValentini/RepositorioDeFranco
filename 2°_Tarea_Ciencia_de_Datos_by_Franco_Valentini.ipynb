{
  "nbformat": 4,
  "nbformat_minor": 0,
  "metadata": {
    "colab": {
      "provenance": [],
      "authorship_tag": "ABX9TyMfEX+6oOZ2C+mQUPO2Xpc0",
      "include_colab_link": true
    },
    "kernelspec": {
      "name": "python3",
      "display_name": "Python 3"
    },
    "language_info": {
      "name": "python"
    }
  },
  "cells": [
    {
      "cell_type": "markdown",
      "metadata": {
        "id": "view-in-github",
        "colab_type": "text"
      },
      "source": [
        "<a href=\"https://colab.research.google.com/github/FrancoValentini/RepositorioDeFranco/blob/main/2%C2%B0_Tarea_Ciencia_de_Datos_by_Franco_Valentini.ipynb\" target=\"_parent\"><img src=\"https://colab.research.google.com/assets/colab-badge.svg\" alt=\"Open In Colab\"/></a>"
      ]
    },
    {
      "cell_type": "code",
      "execution_count": 191,
      "metadata": {
        "id": "pE6ETKcROiqj"
      },
      "outputs": [],
      "source": [
        "#a. Crea una lista con todas tus materias cursadas e iterala con un ciclo for imprimiendo un mensaje en pantalla\n",
        "\n",
        "materias_cursadas = [\"Introducción al Pensamiento Científico\",\"Economía\",\"Sociología\",\"Antropología\",\"Ciencia Política\",\"Sociedad y Estado\",\"Análisis Matemático\",\"Historia Económica y Social\",\"Álgebra\",\"Historia Contemporánea\",\"Funcamentos de Ciencia Política\",\"Filosofía Política\",\"Química\"]"
      ]
    },
    {
      "cell_type": "code",
      "source": [
        "for x in materias_cursadas:\n",
        "  print(\"Franco Valentini ha cursado alguna vez la asignatura de\",x)"
      ],
      "metadata": {
        "colab": {
          "base_uri": "https://localhost:8080/"
        },
        "id": "a_kxHPrcq6ek",
        "outputId": "4f9e9421-9665-42de-ae28-f1804a5eee0e"
      },
      "execution_count": 192,
      "outputs": [
        {
          "output_type": "stream",
          "name": "stdout",
          "text": [
            "Franco Valentini ha cursado alguna vez la asignatura de Introducción al Pensamiento Científico\n",
            "Franco Valentini ha cursado alguna vez la asignatura de Economía\n",
            "Franco Valentini ha cursado alguna vez la asignatura de Sociología\n",
            "Franco Valentini ha cursado alguna vez la asignatura de Antropología\n",
            "Franco Valentini ha cursado alguna vez la asignatura de Ciencia Política\n",
            "Franco Valentini ha cursado alguna vez la asignatura de Sociedad y Estado\n",
            "Franco Valentini ha cursado alguna vez la asignatura de Análisis Matemático\n",
            "Franco Valentini ha cursado alguna vez la asignatura de Historia Económica y Social\n",
            "Franco Valentini ha cursado alguna vez la asignatura de Álgebra\n",
            "Franco Valentini ha cursado alguna vez la asignatura de Historia Contemporánea\n",
            "Franco Valentini ha cursado alguna vez la asignatura de Funcamentos de Ciencia Política\n",
            "Franco Valentini ha cursado alguna vez la asignatura de Filosofía Política\n",
            "Franco Valentini ha cursado alguna vez la asignatura de Química\n"
          ]
        }
      ]
    },
    {
      "cell_type": "code",
      "source": [
        "#Suma de elementos: Crea una lista de números y escribe un programa que calcule la suma de todos los elementos en la lista.\n",
        "\n",
        "lista_de_números = [1,2,3,4,5,6,7,8,9,10,11,12,13,75,14,15,16,17,18,19,20,25]"
      ],
      "metadata": {
        "id": "cVaDfEHQrhsN"
      },
      "execution_count": 193,
      "outputs": []
    },
    {
      "cell_type": "code",
      "source": [
        "suma_de_los_elementos_de_la_lista = 0"
      ],
      "metadata": {
        "id": "zAbtKdSY8i8G"
      },
      "execution_count": 194,
      "outputs": []
    },
    {
      "cell_type": "code",
      "source": [
        "for x in lista_de_números:\n",
        "  suma_de_los_elementos_de_la_lista += x\n",
        "print(\"La suma de todos los elementos en la lista da por resultado\",suma_de_los_elementos_de_la_lista,)\n",
        "\n",
        "#Tuve que averigüar como realizar la suma de todos los elementos de un vector en google, aclarando que no sea mediante una función; realmente no sé que razonamiento hace Python con ese \"+=\""
      ],
      "metadata": {
        "colab": {
          "base_uri": "https://localhost:8080/"
        },
        "id": "vyRq3GhlL6AX",
        "outputId": "78e2d2e6-9a3f-44f0-b20e-9debf6183013"
      },
      "execution_count": 195,
      "outputs": [
        {
          "output_type": "stream",
          "name": "stdout",
          "text": [
            "La suma de todos los elementos en la lista da por resultado 310\n"
          ]
        }
      ]
    },
    {
      "cell_type": "code",
      "source": [
        "# Buscar el máximo: Escribe un programa que encuentre el valor máximo en una lista de números.\n",
        "\n",
        "valor_máximo_de_la_lista = 0"
      ],
      "metadata": {
        "id": "FQGsjr08NIQz"
      },
      "execution_count": 196,
      "outputs": []
    },
    {
      "cell_type": "code",
      "source": [
        "for x in lista_de_números:\n",
        "  if x > valor_máximo_de_la_lista:\n",
        "    valor_máximo_de_la_lista = x\n",
        "print(\"El valor máximo de la lista de números es\",valor_máximo_de_la_lista)"
      ],
      "metadata": {
        "colab": {
          "base_uri": "https://localhost:8080/"
        },
        "id": "rc289QtlUE3W",
        "outputId": "6a98f86b-fd9c-491f-ea1e-df02a5a1504a"
      },
      "execution_count": 197,
      "outputs": [
        {
          "output_type": "stream",
          "name": "stdout",
          "text": [
            "El valor máximo de la lista de números es 75\n"
          ]
        }
      ]
    },
    {
      "cell_type": "code",
      "source": [
        "#Crea un programa que calcule el promedio de todos los elementos de un vector.\n",
        "\n",
        "print(\"El promedio de todos los elementos de la lista de números es\",suma_de_los_elementos_de_la_lista / len(lista_de_números))"
      ],
      "metadata": {
        "colab": {
          "base_uri": "https://localhost:8080/"
        },
        "id": "RNqxooC9VXfe",
        "outputId": "de2498c4-05b9-4218-b74c-c34a5120468a"
      },
      "execution_count": 198,
      "outputs": [
        {
          "output_type": "stream",
          "name": "stdout",
          "text": [
            "El promedio de todos los elementos de la lista de números es 14.090909090909092\n"
          ]
        }
      ]
    },
    {
      "cell_type": "code",
      "source": [
        "# Registro de estudiantes: Crea un diccionario en el que las claves sean los nombres de los estudiantes y los valores sean sus calificaciones. Luego, escribe un programa que permita al usuario buscar la calificación de un estudiante por su nombre.\n",
        "\n",
        "calificaciones_del_curso_de_data_science = {\n",
        "    \"Alberto\" : [{\"Calificación\" : 7}],\n",
        "    \"Bartolo\" : [{\"Calificación\" : 9}],\n",
        "    \"Carla\" : [{\"Calificación\" : 10}],\n",
        "    \"Darío\" : [{\"Calificación\" : 8}],\n",
        "    \"Elena\" : [{\"Calificación\" : 7}],\n",
        "    \"Francisco\" :[{\"Calificación\" : 6}]\n",
        "}"
      ],
      "metadata": {
        "id": "2tYwZHYqZpjc"
      },
      "execution_count": 199,
      "outputs": []
    },
    {
      "cell_type": "code",
      "source": [
        "alumno_en_cuestión = input(\"Ver calificación de \")\n",
        "print(calificaciones_del_curso_de_data_science[alumno_en_cuestión])"
      ],
      "metadata": {
        "colab": {
          "base_uri": "https://localhost:8080/"
        },
        "id": "sqEh5zPO7UPD",
        "outputId": "b1d3bb16-08dc-4156-e347-57bdb44f37a5"
      },
      "execution_count": 200,
      "outputs": [
        {
          "output_type": "stream",
          "name": "stdout",
          "text": [
            "Ver calificación de Bartolo\n",
            "[{'Calificación': 9}]\n"
          ]
        }
      ]
    },
    {
      "cell_type": "code",
      "source": [
        "# Crea un diccionario que contenga tu nombre, edad, hobbies, y toda la información que consideres relevante para presentarte en el curso\n",
        "\n",
        "diccionario_sobre_franco_valentini = {\n",
        "    \"Nombre\": \"Franco Valentini\",\n",
        "    \"Edad\": 21,\n",
        "    \"Residencia\": \"Bella Vista, Partido de San Miguel\",\n",
        "    \"Estudia\": [\n",
        "        {\n",
        "            \"Institución\": \"FSOC\",\n",
        "            \"Carrera\": \"Ciencia Política\"\n",
        "        },\n",
        "        {\n",
        "            \"Institución\": \"FCE\",\n",
        "            \"Carrera\": \"Sistemas de Información de las Organizaciones\"\n",
        "        },\n",
        "    ],\n",
        "    \"Hobbies\": [\"Dj\",\"Productor y Remixer\",\"Lectura ocasional\"],\n",
        "    \"Disciplina deportiva\": [\"Levantamiento de pesas\",\"Fútbol\"],\n",
        "    \"Idiomas\": [\"Español\",\"Inglés\"],\n",
        "    \"Hincha de\": \"Club Atlético San Lorenzo de Almagro\",\n",
        "}"
      ],
      "metadata": {
        "id": "zEfJOHepFmEk"
      },
      "execution_count": 201,
      "outputs": []
    },
    {
      "cell_type": "code",
      "source": [
        "# Contar elementos: Crea un diccionario que represente una bolsa con diferentes tipos de frutas y la cantidad de cada tipo de fruta en la bolsa. Escribe un programa que cuente cuántas frutas hay en total.\n",
        "\n",
        "bolsa_de_frutas = {\n",
        "    \"Bananas\": 6,\n",
        "    \"Peras\": 3,\n",
        "    \"Manzanas\": 6,\n",
        "    \"Mango\": 1,\n",
        "    \"Uvas\": 50,\n",
        "    \"Güaraná\": 3\n",
        "}"
      ],
      "metadata": {
        "id": "6XZ0Se7jKcZj"
      },
      "execution_count": 206,
      "outputs": []
    },
    {
      "cell_type": "code",
      "source": [
        "totalidad_de_las_frutas = 0\n",
        "for x in bolsa_de_frutas:\n",
        "  totalidad_de_las_frutas += (bolsa_de_frutas[x])\n",
        "print(\"La bolsa contiente un total de\",totalidad_de_las_frutas,\"frutas.\")"
      ],
      "metadata": {
        "colab": {
          "base_uri": "https://localhost:8080/"
        },
        "id": "mc3IOJSVLRjx",
        "outputId": "64cb13d8-0ee7-44ec-c6a0-1617bfc993f3"
      },
      "execution_count": 207,
      "outputs": [
        {
          "output_type": "stream",
          "name": "stdout",
          "text": [
            "La bolsa contiente un total de 69 frutas.\n"
          ]
        }
      ]
    }
  ]
}