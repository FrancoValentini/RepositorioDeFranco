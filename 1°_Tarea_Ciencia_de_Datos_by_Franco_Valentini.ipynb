{
  "nbformat": 4,
  "nbformat_minor": 0,
  "metadata": {
    "colab": {
      "provenance": []
    },
    "kernelspec": {
      "name": "python3",
      "display_name": "Python 3"
    },
    "language_info": {
      "name": "python"
    }
  },
  "cells": [
    {
      "cell_type": "code",
      "execution_count": null,
      "metadata": {
        "id": "3xFx8p9pGmk7"
      },
      "outputs": [],
      "source": [
        "nombre = input(\"Por favor, registre su nombre acá: \")\n",
        "edad = input(\"Tambien dejenos saber su edad, por favor: \")\n",
        "print(\"Hola,\",nombre,\". Tienes\",edad,\"años\")"
      ]
    },
    {
      "cell_type": "code",
      "source": [
        "número = input(\"Escribí el número que se te cante: \")\n",
        "número = int(número)\n",
        "if número > 0:\n",
        "  print(\"El número ingresado es positivo.\")\n",
        "else:\n",
        "  print(\"El número ingresado es negativo.\")"
      ],
      "metadata": {
        "id": "K_EDMV0tKjDD"
      },
      "execution_count": null,
      "outputs": []
    },
    {
      "cell_type": "code",
      "source": [
        "número_a_comparar_1 = input(\"Escribí el primer número que se te venga a la cabeza: \")\n",
        "número_a_comparar_2 = input(\"Ahora escribí otro número distinto al anterior: \")\n",
        "número_a_comparar_1 = int(número_a_comparar_1)\n",
        "número_a_comparar_2 = int(número_a_comparar_2)\n",
        "if número_a_comparar_1 > número_a_comparar_2:\n",
        "  print(número_a_comparar_1,\"es mayor a\",número_a_comparar_2)\n",
        "else:\n",
        "  print(número_a_comparar_1,\"es menor a\",número_a_comparar_2)"
      ],
      "metadata": {
        "id": "Hyx6uBY0M3vt"
      },
      "execution_count": null,
      "outputs": []
    },
    {
      "cell_type": "code",
      "source": [
        "calificación = input(\"¿Qué calificación te pondrías en una escala del 0 al 100?: \")\n",
        "calificación = int(calificación)\n",
        "if calificación > 100:\n",
        "  print(\"No seas nabo, ponete una calificación realista.\")\n",
        "if calificación < 60:\n",
        "  print(\"Tu nota correspondiente sería F\")\n",
        "if calificación < 70 and calificación >= 60:\n",
        "    print(\"Tu nota correspondiente sería D\")\n",
        "if calificación < 80 and calificación >= 70:\n",
        "  print(\"Tu nota correspondiente sería C\")\n",
        "if calificación < 90 and calificación >= 80:\n",
        "  print(\"Tu nota correspondiente sería B\")\n",
        "if calificación <= 100 and calificación >= 90:\n",
        "  print(\"Tu nota correspondiente sería A\")"
      ],
      "metadata": {
        "id": "ciSt_e8vPgwu"
      },
      "execution_count": null,
      "outputs": []
    },
    {
      "cell_type": "code",
      "source": [
        "# Según lo investigado por mi cuenta, un Array no es otra cosa que una agrupación de datos con relación entre ellos organizado mediante numeración; las explicaciones encontradas en internet me hacen acordar, ya sea por la utilización de vocabulario como 'vectores' y 'multudimensionales', a los contenidos que se estudian en la asignatura Álgebra.\n",
        "# Respecto a los Ciclos Iterativos, la vaga idea que asimilé es la de la automatización de comandos con un inicio y un fin determinados por condiciones expresadas en el mismo"
      ],
      "metadata": {
        "id": "Zg-eTbjqaL16"
      },
      "execution_count": null,
      "outputs": []
    }
  ]
}