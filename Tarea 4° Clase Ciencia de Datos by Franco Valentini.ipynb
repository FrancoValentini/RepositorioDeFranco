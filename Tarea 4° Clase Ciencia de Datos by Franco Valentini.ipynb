{
 "cells": [
  {
   "cell_type": "code",
   "execution_count": 1,
   "metadata": {},
   "outputs": [],
   "source": [
    "import pandas as pd\n",
    "import matplotlib.pyplot as plt\n",
    "import seaborn as sns"
   ]
  },
  {
   "cell_type": "code",
   "execution_count": 3,
   "metadata": {},
   "outputs": [],
   "source": [
    "healthcare_dataset = pd.read_csv('C:/Users/franc/OneDrive/Cursos/Curso Ciencia de Datos UTN - Alternativa Académica/healthcare-dataset-stroke-data.csv')"
   ]
  },
  {
   "cell_type": "code",
   "execution_count": 4,
   "metadata": {},
   "outputs": [
    {
     "data": {
      "text/html": [
       "<div>\n",
       "<style scoped>\n",
       "    .dataframe tbody tr th:only-of-type {\n",
       "        vertical-align: middle;\n",
       "    }\n",
       "\n",
       "    .dataframe tbody tr th {\n",
       "        vertical-align: top;\n",
       "    }\n",
       "\n",
       "    .dataframe thead th {\n",
       "        text-align: right;\n",
       "    }\n",
       "</style>\n",
       "<table border=\"1\" class=\"dataframe\">\n",
       "  <thead>\n",
       "    <tr style=\"text-align: right;\">\n",
       "      <th></th>\n",
       "      <th>id</th>\n",
       "      <th>gender</th>\n",
       "      <th>age</th>\n",
       "      <th>hypertension</th>\n",
       "      <th>heart_disease</th>\n",
       "      <th>ever_married</th>\n",
       "      <th>work_type</th>\n",
       "      <th>Residence_type</th>\n",
       "      <th>avg_glucose_level</th>\n",
       "      <th>bmi</th>\n",
       "      <th>smoking_status</th>\n",
       "      <th>stroke</th>\n",
       "    </tr>\n",
       "  </thead>\n",
       "  <tbody>\n",
       "    <tr>\n",
       "      <th>0</th>\n",
       "      <td>9046</td>\n",
       "      <td>Male</td>\n",
       "      <td>67.0</td>\n",
       "      <td>0</td>\n",
       "      <td>1</td>\n",
       "      <td>Yes</td>\n",
       "      <td>Private</td>\n",
       "      <td>Urban</td>\n",
       "      <td>228.69</td>\n",
       "      <td>36.6</td>\n",
       "      <td>formerly smoked</td>\n",
       "      <td>1</td>\n",
       "    </tr>\n",
       "    <tr>\n",
       "      <th>1</th>\n",
       "      <td>51676</td>\n",
       "      <td>Female</td>\n",
       "      <td>61.0</td>\n",
       "      <td>0</td>\n",
       "      <td>0</td>\n",
       "      <td>Yes</td>\n",
       "      <td>Self-employed</td>\n",
       "      <td>Rural</td>\n",
       "      <td>202.21</td>\n",
       "      <td>NaN</td>\n",
       "      <td>never smoked</td>\n",
       "      <td>1</td>\n",
       "    </tr>\n",
       "    <tr>\n",
       "      <th>2</th>\n",
       "      <td>31112</td>\n",
       "      <td>Male</td>\n",
       "      <td>80.0</td>\n",
       "      <td>0</td>\n",
       "      <td>1</td>\n",
       "      <td>Yes</td>\n",
       "      <td>Private</td>\n",
       "      <td>Rural</td>\n",
       "      <td>105.92</td>\n",
       "      <td>32.5</td>\n",
       "      <td>never smoked</td>\n",
       "      <td>1</td>\n",
       "    </tr>\n",
       "    <tr>\n",
       "      <th>3</th>\n",
       "      <td>60182</td>\n",
       "      <td>Female</td>\n",
       "      <td>49.0</td>\n",
       "      <td>0</td>\n",
       "      <td>0</td>\n",
       "      <td>Yes</td>\n",
       "      <td>Private</td>\n",
       "      <td>Urban</td>\n",
       "      <td>171.23</td>\n",
       "      <td>34.4</td>\n",
       "      <td>smokes</td>\n",
       "      <td>1</td>\n",
       "    </tr>\n",
       "    <tr>\n",
       "      <th>4</th>\n",
       "      <td>1665</td>\n",
       "      <td>Female</td>\n",
       "      <td>79.0</td>\n",
       "      <td>1</td>\n",
       "      <td>0</td>\n",
       "      <td>Yes</td>\n",
       "      <td>Self-employed</td>\n",
       "      <td>Rural</td>\n",
       "      <td>174.12</td>\n",
       "      <td>24.0</td>\n",
       "      <td>never smoked</td>\n",
       "      <td>1</td>\n",
       "    </tr>\n",
       "    <tr>\n",
       "      <th>...</th>\n",
       "      <td>...</td>\n",
       "      <td>...</td>\n",
       "      <td>...</td>\n",
       "      <td>...</td>\n",
       "      <td>...</td>\n",
       "      <td>...</td>\n",
       "      <td>...</td>\n",
       "      <td>...</td>\n",
       "      <td>...</td>\n",
       "      <td>...</td>\n",
       "      <td>...</td>\n",
       "      <td>...</td>\n",
       "    </tr>\n",
       "    <tr>\n",
       "      <th>5105</th>\n",
       "      <td>18234</td>\n",
       "      <td>Female</td>\n",
       "      <td>80.0</td>\n",
       "      <td>1</td>\n",
       "      <td>0</td>\n",
       "      <td>Yes</td>\n",
       "      <td>Private</td>\n",
       "      <td>Urban</td>\n",
       "      <td>83.75</td>\n",
       "      <td>NaN</td>\n",
       "      <td>never smoked</td>\n",
       "      <td>0</td>\n",
       "    </tr>\n",
       "    <tr>\n",
       "      <th>5106</th>\n",
       "      <td>44873</td>\n",
       "      <td>Female</td>\n",
       "      <td>81.0</td>\n",
       "      <td>0</td>\n",
       "      <td>0</td>\n",
       "      <td>Yes</td>\n",
       "      <td>Self-employed</td>\n",
       "      <td>Urban</td>\n",
       "      <td>125.20</td>\n",
       "      <td>40.0</td>\n",
       "      <td>never smoked</td>\n",
       "      <td>0</td>\n",
       "    </tr>\n",
       "    <tr>\n",
       "      <th>5107</th>\n",
       "      <td>19723</td>\n",
       "      <td>Female</td>\n",
       "      <td>35.0</td>\n",
       "      <td>0</td>\n",
       "      <td>0</td>\n",
       "      <td>Yes</td>\n",
       "      <td>Self-employed</td>\n",
       "      <td>Rural</td>\n",
       "      <td>82.99</td>\n",
       "      <td>30.6</td>\n",
       "      <td>never smoked</td>\n",
       "      <td>0</td>\n",
       "    </tr>\n",
       "    <tr>\n",
       "      <th>5108</th>\n",
       "      <td>37544</td>\n",
       "      <td>Male</td>\n",
       "      <td>51.0</td>\n",
       "      <td>0</td>\n",
       "      <td>0</td>\n",
       "      <td>Yes</td>\n",
       "      <td>Private</td>\n",
       "      <td>Rural</td>\n",
       "      <td>166.29</td>\n",
       "      <td>25.6</td>\n",
       "      <td>formerly smoked</td>\n",
       "      <td>0</td>\n",
       "    </tr>\n",
       "    <tr>\n",
       "      <th>5109</th>\n",
       "      <td>44679</td>\n",
       "      <td>Female</td>\n",
       "      <td>44.0</td>\n",
       "      <td>0</td>\n",
       "      <td>0</td>\n",
       "      <td>Yes</td>\n",
       "      <td>Govt_job</td>\n",
       "      <td>Urban</td>\n",
       "      <td>85.28</td>\n",
       "      <td>26.2</td>\n",
       "      <td>Unknown</td>\n",
       "      <td>0</td>\n",
       "    </tr>\n",
       "  </tbody>\n",
       "</table>\n",
       "<p>5110 rows × 12 columns</p>\n",
       "</div>"
      ],
      "text/plain": [
       "         id  gender   age  hypertension  heart_disease ever_married  \\\n",
       "0      9046    Male  67.0             0              1          Yes   \n",
       "1     51676  Female  61.0             0              0          Yes   \n",
       "2     31112    Male  80.0             0              1          Yes   \n",
       "3     60182  Female  49.0             0              0          Yes   \n",
       "4      1665  Female  79.0             1              0          Yes   \n",
       "...     ...     ...   ...           ...            ...          ...   \n",
       "5105  18234  Female  80.0             1              0          Yes   \n",
       "5106  44873  Female  81.0             0              0          Yes   \n",
       "5107  19723  Female  35.0             0              0          Yes   \n",
       "5108  37544    Male  51.0             0              0          Yes   \n",
       "5109  44679  Female  44.0             0              0          Yes   \n",
       "\n",
       "          work_type Residence_type  avg_glucose_level   bmi   smoking_status  \\\n",
       "0           Private          Urban             228.69  36.6  formerly smoked   \n",
       "1     Self-employed          Rural             202.21   NaN     never smoked   \n",
       "2           Private          Rural             105.92  32.5     never smoked   \n",
       "3           Private          Urban             171.23  34.4           smokes   \n",
       "4     Self-employed          Rural             174.12  24.0     never smoked   \n",
       "...             ...            ...                ...   ...              ...   \n",
       "5105        Private          Urban              83.75   NaN     never smoked   \n",
       "5106  Self-employed          Urban             125.20  40.0     never smoked   \n",
       "5107  Self-employed          Rural              82.99  30.6     never smoked   \n",
       "5108        Private          Rural             166.29  25.6  formerly smoked   \n",
       "5109       Govt_job          Urban              85.28  26.2          Unknown   \n",
       "\n",
       "      stroke  \n",
       "0          1  \n",
       "1          1  \n",
       "2          1  \n",
       "3          1  \n",
       "4          1  \n",
       "...      ...  \n",
       "5105       0  \n",
       "5106       0  \n",
       "5107       0  \n",
       "5108       0  \n",
       "5109       0  \n",
       "\n",
       "[5110 rows x 12 columns]"
      ]
     },
     "execution_count": 4,
     "metadata": {},
     "output_type": "execute_result"
    }
   ],
   "source": [
    "healthcare_dataset"
   ]
  },
  {
   "cell_type": "code",
   "execution_count": 6,
   "metadata": {},
   "outputs": [
    {
     "data": {
      "text/plain": [
       "(5110, 12)"
      ]
     },
     "execution_count": 6,
     "metadata": {},
     "output_type": "execute_result"
    }
   ],
   "source": [
    "healthcare_dataset.shape"
   ]
  },
  {
   "cell_type": "code",
   "execution_count": 7,
   "metadata": {},
   "outputs": [
    {
     "data": {
      "text/plain": [
       "id                     int64\n",
       "gender                object\n",
       "age                  float64\n",
       "hypertension           int64\n",
       "heart_disease          int64\n",
       "ever_married          object\n",
       "work_type             object\n",
       "Residence_type        object\n",
       "avg_glucose_level    float64\n",
       "bmi                  float64\n",
       "smoking_status        object\n",
       "stroke                 int64\n",
       "dtype: object"
      ]
     },
     "execution_count": 7,
     "metadata": {},
     "output_type": "execute_result"
    }
   ],
   "source": [
    "healthcare_dataset.dtypes"
   ]
  },
  {
   "cell_type": "code",
   "execution_count": null,
   "metadata": {},
   "outputs": [],
   "source": [
    "## Consigna 1: ¿Qué tipo de variables identifica? Clasifiquelas\n",
    "\n",
    "## - Gender: Cualitativo Nominal\n",
    "## - Age: Cuantitativo Continuo\n",
    "## - Hypertension: Cualitativo Nominal\n",
    "## - Heat Disease: Cualitativo Nominal\n",
    "## - Ever Married: Cualitativo Nominal\n",
    "## - Work Type: Cualitativo Nominal\n",
    "## - Residence Type: Cualitativo Nominal\n",
    "## - Average Glucose Level: Cuantitativo Continuo\n",
    "## - Bmi: Cuantitativo Continuo\n",
    "## - Smoking Status: Cualitativo ordinal\n",
    "## - Stroke: Cualitativo Nominal"
   ]
  },
  {
   "cell_type": "code",
   "execution_count": null,
   "metadata": {},
   "outputs": [],
   "source": [
    "## Consigna 2: ¿Qué hipótesis puede plantear de este set de datos respecto a la variable stroke?\n",
    "\n",
    "## Partiendo de la base de que Stroke se traduce del inglés al castellano como 'Ataque', y que, como corroboro con el comando de la siguiente celda,\n",
    "## solo figuran valores de 0 y de 1, lo que comunica la columna es si el paciente de la fila correspondiente tuvo o no un ataque al corazón (Y\n",
    "## probablemente haya fallecido)"
   ]
  },
  {
   "cell_type": "code",
   "execution_count": 11,
   "metadata": {},
   "outputs": [
    {
     "data": {
      "text/plain": [
       "array([1, 0], dtype=int64)"
      ]
     },
     "execution_count": 11,
     "metadata": {},
     "output_type": "execute_result"
    }
   ],
   "source": [
    "healthcare_dataset['stroke'].unique()"
   ]
  },
  {
   "cell_type": "code",
   "execution_count": null,
   "metadata": {},
   "outputs": [],
   "source": [
    "## Consigna 3: ¿Qué tipos de gráficos utilizaría? ¿Por qué?\n",
    "\n",
    "## Para la columna Gender, Hypertension, Heat Disease, Ever Married, Work Type, Residence Type, y Stroke usaría Gráficos de Barras por tener Valores Cualitativos Nominales\n",
    "## Para la columna Age, Average Glucose Level, y Bmi usaría un Histograma, o un gráfico de caja, o uno de líneas, o de dispersión, por ser Cuantitativos Continuos\n",
    "## En Bmi usaría un Gráfico de Barras o un Gráfico de líneas por ser un Cuantitativo Continuo"
   ]
  },
  {
   "cell_type": "code",
   "execution_count": null,
   "metadata": {},
   "outputs": [],
   "source": [
    "## Consigna 4: ¿Qué medidas de tendencia central y medidas de orden hay en cada columna? Interprete cada una de ellas\n",
    "\n",
    "\n",
    "## * Medidas de Tendencia Central:\n",
    "\n",
    "## Media, Media Recortada, Mediana y Moda\n",
    "\n",
    "## * Medidas de Orden:\n",
    "\n",
    "## Percentil, Cuartil, Rango Intercuartil"
   ]
  },
  {
   "cell_type": "code",
   "execution_count": 15,
   "metadata": {},
   "outputs": [
    {
     "name": "stdout",
     "output_type": "stream",
     "text": [
      "La Media del conjunto de edades es 43.226614481409\n",
      "La Mediana del conjunto de edades es 45.0\n",
      "La Moda del conjunto de edades es 0    78.0\n",
      "Name: age, dtype: float64\n"
     ]
    },
    {
     "name": "stdout",
     "output_type": "stream",
     "text": [
      "El cuartil del conjunto de edades es el que se muestra en el siguiente gráfico:\n"
     ]
    },
    {
     "data": {
      "image/png": "[encoded data removed]",
      "text/plain": [
       "<Figure size 640x480 with 1 Axes>"
      ]
     },
     "metadata": {},
     "output_type": "display_data"
    }
   ],
   "source": [
    "## Columna Age:\n",
    "\n",
    "## Medidas de Tendencia Central:\n",
    "\n",
    "print(\"La Media del conjunto de edades es\",healthcare_dataset['age'].mean())\n",
    "print(\"La Mediana del conjunto de edades es\",healthcare_dataset['age'].median())\n",
    "print(\"La Moda del conjunto de edades es\",healthcare_dataset['age'].mode())\n",
    "\n",
    "## Medidas de Orden:\n",
    "sns.boxplot(data=healthcare_dataset,y='age')\n",
    "print(\"El cuartil del conjunto de edades es el que se muestra en el siguiente gráfico:\")"
   ]
  },
  {
   "cell_type": "code",
   "execution_count": 16,
   "metadata": {},
   "outputs": [
    {
     "name": "stdout",
     "output_type": "stream",
     "text": [
      "La Media del conjunto de índices de glucosa promedio de cada paciente es 106.1476771037182\n",
      "La Mediana del conjunto de índices de glucosa promedio de cada paciente es 91.88499999999999\n",
      "La Moda del conjunto de índices de glucosa promedio de cada paciente es 0    93.88\n",
      "Name: avg_glucose_level, dtype: float64\n",
      "El cuartil del conjunto de índices de glucosa promedio de cada paciente es el que se muestra en el siguiente gráfico:\n"
     ]
    },
    {
     "data": {
      "image/png": "[encoded data removed]",
      "text/plain": [
       "<Figure size 640x480 with 1 Axes>"
      ]
     },
     "metadata": {},
     "output_type": "display_data"
    }
   ],
   "source": [
    "## Columna Average Glucose Level:\n",
    "\n",
    "## Medidas de Tendencia Central:\n",
    "\n",
    "print(\"La Media del conjunto de índices de glucosa promedio de cada paciente es\",healthcare_dataset['avg_glucose_level'].mean())\n",
    "print(\"La Mediana del conjunto de índices de glucosa promedio de cada paciente es\",healthcare_dataset['avg_glucose_level'].median())\n",
    "print(\"La Moda del conjunto de índices de glucosa promedio de cada paciente es\",healthcare_dataset['avg_glucose_level'].mode())\n",
    "\n",
    "## Medidas de Orden:\n",
    "sns.boxplot(data=healthcare_dataset,y='avg_glucose_level')\n",
    "print(\"El cuartil del conjunto de índices de glucosa promedio de cada paciente es el que se muestra en el siguiente gráfico:\")"
   ]
  },
  {
   "cell_type": "code",
   "execution_count": 17,
   "metadata": {},
   "outputs": [
    {
     "name": "stdout",
     "output_type": "stream",
     "text": [
      "La Media del conjunto de masa corporal de los pacientes es 28.893236911794666\n",
      "La Mediana del conjunto de masa corporal de los pacientes es 28.1\n",
      "La Moda del conjunto de masa corporal de los pacientes es 0    28.7\n",
      "Name: bmi, dtype: float64\n",
      "El cuartil del conjunto de masa corporal de los pacientes es el que se muestra en el siguiente gráfico:\n"
     ]
    },
    {
     "data": {
      "image/png": "[encoded data removed]",
      "text/plain": [
       "<Figure size 640x480 with 1 Axes>"
      ]
     },
     "metadata": {},
     "output_type": "display_data"
    }
   ],
   "source": [
    "## Columna Bmi:\n",
    "\n",
    "## Medidas de Tendencia Central:\n",
    "\n",
    "print(\"La Media del conjunto de masa corporal de los pacientes es\",healthcare_dataset['bmi'].mean())\n",
    "print(\"La Mediana del conjunto de masa corporal de los pacientes es\",healthcare_dataset['bmi'].median())\n",
    "print(\"La Moda del conjunto de masa corporal de los pacientes es\",healthcare_dataset['bmi'].mode())\n",
    "\n",
    "## Medidas de Orden:\n",
    "sns.boxplot(data=healthcare_dataset,y='bmi')\n",
    "print(\"El cuartil del conjunto de masa corporal de los pacientes es el que se muestra en el siguiente gráfico:\")"
   ]
  },
  {
   "cell_type": "code",
   "execution_count": 28,
   "metadata": {},
   "outputs": [
    {
     "name": "stdout",
     "output_type": "stream",
     "text": [
      "La visualización de que tantos pacientes repiten cada estatus de consumo de cigarrilo es el siguiente:\n"
     ]
    },
    {
     "data": {
      "image/png": "[encoded data removed]",
      "text/plain": [
       "<Figure size 640x480 with 1 Axes>"
      ]
     },
     "metadata": {},
     "output_type": "display_data"
    }
   ],
   "source": [
    "## Columna Smoking Status:\n",
    "\n",
    "## No es posible hacer medidas ni de tendencia central ni de orden; en su lugar presento un gráfico que indique que tanto se repite cada status:\n",
    "\n",
    "print(\"La visualización de que tantos pacientes repiten cada estatus de consumo de cigarrilo es el siguiente:\")\n",
    "sns.countplot(data=healthcare_dataset,x='smoking_status')\n",
    "plt.show()"
   ]
  },
  {
   "cell_type": "code",
   "execution_count": null,
   "metadata": {},
   "outputs": [],
   "source": [
    "## Consigna 5: ¿Hay outliers? ¿A que se deben?\n",
    "\n",
    "## Hay outliers en el gráfico de la columna con los índices de masa corporal y los índices glucosa. Tener una masa corporal anormalmente grande no\n",
    "## necesariamente debe deberse al padecimiento de una obesidad, ni tampoco lo implica la condición de tener glucosa demasiado por encima de la media;\n",
    "## sin embargo, en caso de combinarse ambas circunsancias en los mismos pacientes, llegaría a la conclusión de que la causa de los outliers se trata\n",
    "## del listado de pacientes obesos."
   ]
  }
 ],
 "metadata": {
  "kernelspec": {
   "display_name": "Python 3",
   "language": "python",
   "name": "python3"
  },
  "language_info": {
   "codemirror_mode": {
    "name": "ipython",
    "version": 3
   },
   "file_extension": ".py",
   "mimetype": "text/x-python",
   "name": "python",
   "nbconvert_exporter": "python",
   "pygments_lexer": "ipython3",
   "version": "3.11.5"
  }
 },
 "nbformat": 4,
 "nbformat_minor": 2
}
